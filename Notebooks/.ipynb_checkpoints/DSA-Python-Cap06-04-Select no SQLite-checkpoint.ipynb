{
 "cells": [
  {
   "cell_type": "markdown",
   "metadata": {},
   "source": [
    "# <font color='blue'>Data Science Academy - Python Fundamentos - Capítulo 6</font>\n",
    "\n",
    "## Download: http://github.com/dsacademybr"
   ]
  },
  {
   "cell_type": "markdown",
   "metadata": {},
   "source": [
    "### Leitura de dados"
   ]
  },
  {
   "cell_type": "code",
   "execution_count": 1,
   "metadata": {},
   "outputs": [],
   "source": [
    "import sqlite3\n",
    "import random\n",
    "import time\n",
    "import datetime\n",
    " \n",
    "# Criando uma conexão\n",
    "conn = sqlite3.connect('dsa.db')   \n",
    "\n",
    "# Criando um cursor\n",
    "c = conn.cursor()\n",
    " \n",
    "# Função para criar uma tabela\n",
    "def create_table():\n",
    "    c.execute('CREATE TABLE IF NOT EXISTS produtos(id INTEGER PRIMARY KEY AUTOINCREMENT NOT NULL, date TEXT, '\\\n",
    "              'prod_name TEXT, valor REAL)')\n",
    "\n",
    "# Função para inserir uma linha\n",
    "def data_insert():\n",
    "    c.execute(\"INSERT INTO produtos VALUES(002, '02-05-2016', 'teclado', 130 )\")\n",
    "    conn.commit()\n",
    "    c.close()\n",
    "    conn.close()\n",
    "    \n",
    "# Usando variáveis para inserir dados    \n",
    "def data_insert_var():\n",
    "    new_date = datetime.datetime.now()\n",
    "    new_prod_name = 'monitor'\n",
    "    new_valor = random.randrange(50,100)\n",
    "    c.execute(\"INSERT INTO produtos (date, prod_name, valor) VALUES (?, ?, ?, ?)\", \n",
    "              (new_date, new_prod_name, new_valor))\n",
    "    conn.commit()\n",
    "    \n",
    "# Leitura de dados\n",
    "def leitura_todos_dados():\n",
    "    c.execute(\"SELECT * FROM PRODUTOS\")\n",
    "    for linha in c.fetchall():\n",
    "        print(linha)\n",
    "        \n",
    "# Leitura de registros específicos\n",
    "def leitura_registros():\n",
    "    c.execute(\"SELECT * FROM PRODUTOS WHERE valor > 60.0\")\n",
    "    for linha in c.fetchall():\n",
    "        print(linha)      \n",
    "        \n",
    "# Leitura de colunas específicos\n",
    "def leitura_colunas():\n",
    "    c.execute(\"SELECT * FROM PRODUTOS\")\n",
    "    for linha in c.fetchall():\n",
    "        print(linha[3])         \n"
   ]
  },
  {
   "cell_type": "code",
   "execution_count": 2,
   "metadata": {},
   "outputs": [
    {
     "name": "stdout",
     "output_type": "stream",
     "text": [
      "(10, '2018-05-02 14:32:11', 'Teclado', 90.0)\n",
      "(11, '2019-08-02 16:32:02.725501', 'Monitor', 76.0)\n",
      "(12, '2019-08-02 16:32:03.849831', 'Monitor', 96.0)\n",
      "(13, '2019-08-02 16:32:05.118851', 'Monitor', 53.0)\n",
      "(14, '2019-08-02 16:32:06.217199', 'Monitor', 50.0)\n",
      "(15, '2019-08-02 16:32:07.334990', 'Monitor', 59.0)\n",
      "(16, '2019-08-02 16:32:08.440904', 'Monitor', 60.0)\n",
      "(17, '2019-08-02 16:32:09.527449', 'Monitor', 90.0)\n",
      "(18, '2019-08-02 16:32:10.627160', 'Monitor', 89.0)\n",
      "(19, '2019-08-02 16:32:11.730925', 'Monitor', 94.0)\n",
      "(20, '2019-08-02 16:32:12.828528', 'Monitor', 58.0)\n",
      "(21, '2019-08-02 16:33:12.049412', 'Monitor', 52.0)\n",
      "(22, '2019-08-02 16:33:13.184587', 'Monitor', 97.0)\n",
      "(23, '2019-08-02 16:33:14.406745', 'Monitor', 67.0)\n",
      "(24, '2019-08-02 16:33:15.560540', 'Monitor', 55.0)\n",
      "(25, '2019-08-02 16:33:16.652624', 'Monitor', 86.0)\n",
      "(26, '2019-08-02 16:33:17.816043', 'Monitor', 81.0)\n",
      "(27, '2019-08-02 16:33:18.945237', 'Monitor', 91.0)\n",
      "(28, '2019-08-02 16:33:20.174249', 'Monitor', 75.0)\n",
      "(29, '2019-08-02 16:33:21.293999', 'Monitor', 65.0)\n",
      "(30, '2019-08-02 16:33:22.414271', 'Monitor', 75.0)\n"
     ]
    }
   ],
   "source": [
    "# Select nos dados\n",
    "leitura_todos_dados()"
   ]
  },
  {
   "cell_type": "code",
   "execution_count": 3,
   "metadata": {},
   "outputs": [
    {
     "name": "stdout",
     "output_type": "stream",
     "text": [
      "(10, '2018-05-02 14:32:11', 'Teclado', 90.0)\n",
      "(11, '2019-08-02 16:32:02.725501', 'Monitor', 76.0)\n",
      "(12, '2019-08-02 16:32:03.849831', 'Monitor', 96.0)\n",
      "(17, '2019-08-02 16:32:09.527449', 'Monitor', 90.0)\n",
      "(18, '2019-08-02 16:32:10.627160', 'Monitor', 89.0)\n",
      "(19, '2019-08-02 16:32:11.730925', 'Monitor', 94.0)\n",
      "(22, '2019-08-02 16:33:13.184587', 'Monitor', 97.0)\n",
      "(23, '2019-08-02 16:33:14.406745', 'Monitor', 67.0)\n",
      "(25, '2019-08-02 16:33:16.652624', 'Monitor', 86.0)\n",
      "(26, '2019-08-02 16:33:17.816043', 'Monitor', 81.0)\n",
      "(27, '2019-08-02 16:33:18.945237', 'Monitor', 91.0)\n",
      "(28, '2019-08-02 16:33:20.174249', 'Monitor', 75.0)\n",
      "(29, '2019-08-02 16:33:21.293999', 'Monitor', 65.0)\n",
      "(30, '2019-08-02 16:33:22.414271', 'Monitor', 75.0)\n"
     ]
    }
   ],
   "source": [
    "# Leitura de registros específicos\n",
    "leitura_registros()"
   ]
  },
  {
   "cell_type": "code",
   "execution_count": 4,
   "metadata": {},
   "outputs": [
    {
     "name": "stdout",
     "output_type": "stream",
     "text": [
      "90.0\n",
      "76.0\n",
      "96.0\n",
      "53.0\n",
      "50.0\n",
      "59.0\n",
      "60.0\n",
      "90.0\n",
      "89.0\n",
      "94.0\n",
      "58.0\n",
      "52.0\n",
      "97.0\n",
      "67.0\n",
      "55.0\n",
      "86.0\n",
      "81.0\n",
      "91.0\n",
      "75.0\n",
      "65.0\n",
      "75.0\n"
     ]
    }
   ],
   "source": [
    "# Leitura de colunas específicas\n",
    "leitura_colunas()"
   ]
  },
  {
   "cell_type": "code",
   "execution_count": 5,
   "metadata": {},
   "outputs": [],
   "source": [
    "# Encerrando a conexão\n",
    "c.close()\n",
    "conn.close()"
   ]
  },
  {
   "cell_type": "markdown",
   "metadata": {},
   "source": [
    "# Fim"
   ]
  },
  {
   "cell_type": "markdown",
   "metadata": {},
   "source": [
    "### Obrigado - Data Science Academy - <a href=\"http://facebook.com/dsacademybr\">facebook.com/dsacademybr</a>"
   ]
  }
 ],
 "metadata": {
  "kernelspec": {
   "display_name": "Python 3",
   "language": "python",
   "name": "python3"
  },
  "language_info": {
   "codemirror_mode": {
    "name": "ipython",
    "version": 3
   },
   "file_extension": ".py",
   "mimetype": "text/x-python",
   "name": "python",
   "nbconvert_exporter": "python",
   "pygments_lexer": "ipython3",
   "version": "3.6.5"
  }
 },
 "nbformat": 4,
 "nbformat_minor": 1
}
